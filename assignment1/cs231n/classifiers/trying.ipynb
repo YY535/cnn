{
 "cells": [
  {
   "cell_type": "code",
   "execution_count": 107,
   "metadata": {
    "collapsed": true
   },
   "outputs": [],
   "source": [
    "import numpy as np\n",
    "import scipy as sp\n",
    "import matplotlib.pyplot as plt"
   ]
  },
  {
   "cell_type": "code",
   "execution_count": 35,
   "metadata": {
    "collapsed": false
   },
   "outputs": [
    {
     "name": "stdout",
     "output_type": "stream",
     "text": [
      "3\n",
      "(5,)\n"
     ]
    }
   ],
   "source": [
    "aa=np.random.rand(5,3)\n",
    "print aa.shape[1]\n",
    "np.zeros?\n",
    "aa=np.zeros(5)\n",
    "print aa.shape"
   ]
  },
  {
   "cell_type": "code",
   "execution_count": 54,
   "metadata": {
    "collapsed": false
   },
   "outputs": [
    {
     "name": "stdout",
     "output_type": "stream",
     "text": [
      "[625 256  81  16   1]\n"
     ]
    }
   ],
   "source": [
    "# tile?\n",
    "z=(np.array(range(5))-5)**2\n",
    "print np.multiply(z.T,z)"
   ]
  },
  {
   "cell_type": "code",
   "execution_count": null,
   "metadata": {
    "collapsed": false
   },
   "outputs": [],
   "source": [
    "z=np.random.rand(5,3)\n",
    "print z[1,] \n",
    "print z[1,:]"
   ]
  },
  {
   "cell_type": "code",
   "execution_count": null,
   "metadata": {
    "collapsed": true
   },
   "outputs": [],
   "source": [
    "a=None\n",
    "print a"
   ]
  },
  {
   "cell_type": "code",
   "execution_count": 18,
   "metadata": {
    "collapsed": false
   },
   "outputs": [
    {
     "name": "stdout",
     "output_type": "stream",
     "text": [
      "[[ 0.75514786  0.20879094  0.29851978  0.70795505  0.28048613]\n",
      " [ 0.16674569  0.51538673  0.11150855  0.42083281  0.54728341]\n",
      " [ 0.59937214  0.30156423  0.04235579  0.19781365  0.06782956]\n",
      " [ 0.12394216  0.62938337  0.57176646  0.63501175  0.28357674]\n",
      " [ 0.11983777  0.4032881   0.60426782  0.2454673   0.60565846]]\n",
      "[[3]\n",
      " [2]\n",
      " [1]\n",
      " [0]\n",
      " [2]]\n",
      "[[ 0.          0.59937214]\n",
      " [ 0.          0.30156423]\n",
      " [ 0.          0.04235579]\n",
      " [ 0.          0.19781365]\n",
      " [ 0.          0.06782956]]\n"
     ]
    }
   ],
   "source": [
    "a=np.random.rand(5,5)\n",
    "b=np.random.randint(4,size=(5,1))\n",
    "print a\n",
    "print b\n",
    "print np.dot(np.reshape(a[2,:],(-1,1)),np.random.rand(1,2)>0.5)"
   ]
  },
  {
   "cell_type": "code",
   "execution_count": 25,
   "metadata": {
    "collapsed": false
   },
   "outputs": [
    {
     "name": "stdout",
     "output_type": "stream",
     "text": [
      "[ 0.20513519  0.67691556  0.21996343  0.06027013  0.89823397]\n"
     ]
    },
    {
     "data": {
      "text/plain": [
       "array([[ 0.],\n",
       "       [ 0.]])"
      ]
     },
     "execution_count": 25,
     "metadata": {},
     "output_type": "execute_result"
    }
   ],
   "source": [
    "a= np.random.rand(5,3)\n",
    "print a[:,1]\n",
    "a[:,1]*np.sum(np.random.rand(1,5)>.5)\n",
    "np.zeros((2,1))"
   ]
  },
  {
   "cell_type": "code",
   "execution_count": 60,
   "metadata": {
    "collapsed": false
   },
   "outputs": [
    {
     "name": "stdout",
     "output_type": "stream",
     "text": [
      "[[2]\n",
      " [2]\n",
      " [0]\n",
      " [1]\n",
      " [0]]\n",
      "[0 1 2 3 4]\n",
      "[[ -5.37993466e-04  -5.47006694e-01   4.64067510e-01]\n",
      " [ -1.17904024e-01  -4.82457290e-01   2.16195698e-01]\n",
      " [ -8.08017946e-01   8.81966587e-01  -6.59700458e-01]\n",
      " [ -6.72297784e-01   6.94691495e-01  -8.99912798e-01]\n",
      " [  2.64991079e-01  -1.01918237e-01  -5.87314062e-01]]\n"
     ]
    }
   ],
   "source": [
    "np.argmax?\n",
    "a = np.random.rand(5,3) - np.ones((5,1)) #(:,np.ones((5,1))\n",
    "print np.random.randint(3,size=(5,1))\n",
    "print np.arange(a.shape[0])\n",
    "a[np.arange(a.shape[0]), np.random.randint(3,size=5)]=np.random.rand(5)\n",
    "print a "
   ]
  },
  {
   "cell_type": "code",
   "execution_count": 78,
   "metadata": {
    "collapsed": false
   },
   "outputs": [
    {
     "ename": "SyntaxError",
     "evalue": "invalid syntax (<ipython-input-78-b4213fa0b4e9>, line 8)",
     "output_type": "error",
     "traceback": [
      "\u001b[0;36m  File \u001b[0;32m\"<ipython-input-78-b4213fa0b4e9>\"\u001b[0;36m, line \u001b[0;32m8\u001b[0m\n\u001b[0;31m    print np.exp(1\u001b[0m\n\u001b[0m                  ^\u001b[0m\n\u001b[0;31mSyntaxError\u001b[0m\u001b[0;31m:\u001b[0m invalid syntax\n"
     ]
    }
   ],
   "source": [
    "reg=5\n",
    "lr=3\n",
    "a= {}\n",
    "a[(reg,lr)]=[0 ,1]\n",
    "aa, bb = a[(reg,lr)]\n",
    "print aa\n",
    "print bb\n",
    "print np.exp(1"
   ]
  },
  {
   "cell_type": "code",
   "execution_count": 98,
   "metadata": {
    "collapsed": false
   },
   "outputs": [
    {
     "name": "stdout",
     "output_type": "stream",
     "text": [
      "Object `inline` not found.\n"
     ]
    }
   ],
   "source": [
    "A= np.random.rand(3,5)/(np.arange(5)+1)\n",
    "A*np.reshape(np.sum(A,axis=1), (-1,1))\n",
    "%matplotlib inline?"
   ]
  },
  {
   "cell_type": "code",
   "execution_count": 101,
   "metadata": {
    "collapsed": false
   },
   "outputs": [
    {
     "ename": "NameError",
     "evalue": "name 'X' is not defined",
     "output_type": "error",
     "traceback": [
      "\u001b[0;31m---------------------------------------------------------------------------\u001b[0m",
      "\u001b[0;31mNameError\u001b[0m                                 Traceback (most recent call last)",
      "\u001b[0;32m<ipython-input-101-406e3938f57e>\u001b[0m in \u001b[0;36m<module>\u001b[0;34m()\u001b[0m\n\u001b[0;32m----> 1\u001b[0;31m \u001b[0mdW11\u001b[0m \u001b[0;34m=\u001b[0m \u001b[0mnp\u001b[0m\u001b[0;34m.\u001b[0m\u001b[0mdot\u001b[0m\u001b[0;34m(\u001b[0m\u001b[0mX\u001b[0m\u001b[0;34m.\u001b[0m\u001b[0mT\u001b[0m\u001b[0;34m,\u001b[0m \u001b[0;34m(\u001b[0m\u001b[0mL2\u001b[0m\u001b[0;34m/\u001b[0m\u001b[0mnp\u001b[0m\u001b[0;34m.\u001b[0m\u001b[0mreshape\u001b[0m\u001b[0;34m(\u001b[0m\u001b[0mnp\u001b[0m\u001b[0;34m.\u001b[0m\u001b[0msum\u001b[0m\u001b[0;34m(\u001b[0m\u001b[0mL2\u001b[0m\u001b[0;34m,\u001b[0m\u001b[0maxis\u001b[0m\u001b[0;34m=\u001b[0m\u001b[0;36m1\u001b[0m\u001b[0;34m)\u001b[0m\u001b[0;34m,\u001b[0m\u001b[0;34m(\u001b[0m\u001b[0;34m-\u001b[0m\u001b[0;36m1\u001b[0m\u001b[0;34m,\u001b[0m\u001b[0;36m1\u001b[0m\u001b[0;34m)\u001b[0m\u001b[0;34m)\u001b[0m \u001b[0;34m-\u001b[0m\u001b[0mcscores\u001b[0m\u001b[0;34m)\u001b[0m\u001b[0;34m.\u001b[0m\u001b[0mdot\u001b[0m\u001b[0;34m(\u001b[0m\u001b[0mW2\u001b[0m\u001b[0;34m.\u001b[0m\u001b[0mT\u001b[0m\u001b[0;34m)\u001b[0m\u001b[0;34m)\u001b[0m\u001b[0;34m\u001b[0m\u001b[0m\n\u001b[0m",
      "\u001b[0;31mNameError\u001b[0m: name 'X' is not defined"
     ]
    }
   ],
   "source": [
    "dW11 = np.dot(X.T, (L2/np.reshape(np.sum(L2,axis=1),(-1,1)) -cscores).dot(W2.T))"
   ]
  },
  {
   "cell_type": "code",
   "execution_count": null,
   "metadata": {
    "collapsed": false
   },
   "outputs": [],
   "source": [
    "a={'abs':2, 'gg': 5}\n",
    "print a['abs']"
   ]
  },
  {
   "cell_type": "code",
   "execution_count": null,
   "metadata": {
    "collapsed": false
   },
   "outputs": [],
   "source": [
    "if?"
   ]
  }
 ],
 "metadata": {
  "kernelspec": {
   "display_name": "Python 2",
   "language": "python",
   "name": "python2"
  },
  "language_info": {
   "codemirror_mode": {
    "name": "ipython",
    "version": 2
   },
   "file_extension": ".py",
   "mimetype": "text/x-python",
   "name": "python",
   "nbconvert_exporter": "python",
   "pygments_lexer": "ipython2",
   "version": "2.7.13"
  }
 },
 "nbformat": 4,
 "nbformat_minor": 2
}
