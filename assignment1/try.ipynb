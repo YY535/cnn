{
 "cells": [
  {
   "cell_type": "code",
   "execution_count": 43,
   "metadata": {
    "collapsed": false
   },
   "outputs": [
    {
     "name": "stdout",
     "output_type": "stream",
     "text": [
      "[1, 3]\n",
      "0\n",
      "1\n",
      "2\n",
      "3\n",
      "4\n",
      "[ 1.  0.  1.  4.  9.]\n",
      "[  3.   1.   3.   9.  19.]\n",
      "(5,)\n",
      "[  2.   0.   2.   8.  18.]\n",
      "<enumerate object at 0x7f8468138500>\n"
     ]
    }
   ],
   "source": [
    "import numpy as np\n",
    "# try platform\n",
    "xrange?\n",
    "a=range(1,5, 2)\n",
    "b=np.zeros(5)\n",
    "print a\n",
    "for a in range(5):\n",
    "    b[a]=(a-1)**2\n",
    "    print a\n",
    "print b\n",
    "print np.dot(b,2)+1\n",
    "print b.shape\n",
    "print b.T + b\n",
    "a = np.array([[1,4],[3,1]])\n",
    "c=enumerate(b)\n",
    "print c"
   ]
  },
  {
   "cell_type": "code",
   "execution_count": 85,
   "metadata": {
    "collapsed": false
   },
   "outputs": [
    {
     "name": "stdout",
     "output_type": "stream",
     "text": [
      "[ 0.18088441  0.56380001  0.65960807  0.62562556  0.78186825  0.77854562\n",
      "  0.59856871  0.99308192  0.81817161  0.17230587]\n",
      "[9 0 1 6 3 2 5 4 8 7]\n"
     ]
    },
    {
     "data": {
      "text/plain": [
       "array([ 0.17230587,  0.18088441,  0.56380001,  0.59856871,  0.62562556,\n",
       "        0.65960807,  0.77854562,  0.78186825,  0.81817161,  0.99308192])"
      ]
     },
     "execution_count": 85,
     "metadata": {},
     "output_type": "execute_result"
    }
   ],
   "source": [
    "aa=b\n",
    "print b\n",
    "print np.argsort(b)\n",
    "# c=np.argsort(b)\n",
    "aa[np.argsort(b)]\n",
    "# b[:3]\n",
    "# np.bincount == accumarray \n",
    "# np.bincount(b)"
   ]
  },
  {
   "cell_type": "code",
   "execution_count": 92,
   "metadata": {
    "collapsed": false
   },
   "outputs": [
    {
     "name": "stdout",
     "output_type": "stream",
     "text": [
      "[0 1 2 3 4]\n",
      "[1 1 1 1 1]\n"
     ]
    }
   ],
   "source": [
    "unique, counts = np.unique(xrange(5), return_counts=True)\n",
    "print unique\n",
    "print counts\n",
    "# dict(zip(unique, counts))"
   ]
  },
  {
   "cell_type": "code",
   "execution_count": 61,
   "metadata": {
    "collapsed": false
   },
   "outputs": [
    {
     "name": "stdout",
     "output_type": "stream",
     "text": [
      "[[  4.06103128e-04   1.31597431e-01   2.10287972e-01   1.80275943e-01\n",
      "    3.37365631e-01   3.33516893e-01   1.58031933e-01   6.27336090e-01\n",
      "    3.80855857e-01   8.25444158e-04]\n",
      " [  7.36764684e-04   1.26573853e-01   2.03924727e-01   1.74387870e-01\n",
      "    3.29292845e-01   3.25490567e-01   1.52522191e-01   6.16309942e-01\n",
      "    3.72275448e-01   1.27605792e-03]\n",
      " [  5.95518212e-01   1.51151959e-01   8.58341161e-02   1.06900957e-01\n",
      "    2.91434134e-02   3.02888946e-02   1.25325884e-01   1.64018889e-03\n",
      "    1.80663339e-02   6.08831898e-01]\n",
      " [  3.07456014e-02   4.30858718e-02   9.20390776e-02   7.25746952e-02\n",
      "    1.81169075e-01   1.78351630e-01   5.87287086e-02   4.05582092e-01\n",
      "    2.13391303e-01   3.38275891e-02]\n",
      " [  2.85068381e-02   3.04433894e-01   4.19338288e-01   3.76481433e-01\n",
      "    5.92628261e-01   5.87523625e-01   3.44010387e-01   9.62433972e-01\n",
      "    6.49840553e-01   2.56836324e-02]]\n"
     ]
    }
   ],
   "source": [
    "a=np.random.rand(5)\n",
    "b=np.random.rand(10)\n",
    "c=np.zeros((5,10))\n",
    "for i in xrange(len(a)):\n",
    "    for j in xrange(len(b)):\n",
    "        c[i,j]=(a[i]-b[j])**2\n",
    "print c"
   ]
  },
  {
   "cell_type": "code",
   "execution_count": 93,
   "metadata": {
    "collapsed": false
   },
   "outputs": [
    {
     "name": "stdout",
     "output_type": "stream",
     "text": [
      "(5,)\n",
      "(3,)\n"
     ]
    },
    {
     "data": {
      "text/plain": [
       "array([ 0.1496504 ,  0.5986571 ,  0.8356232 ,  0.91389876,  0.9308299 ])"
      ]
     },
     "execution_count": 93,
     "metadata": {},
     "output_type": "execute_result"
    }
   ],
   "source": [
    "c=np.random.rand(3,5)\n",
    "d=np.sum(c,axis = 0)\n",
    "print d.shape\n",
    "f=np.sum(c,axis = 1)\n",
    "print f.shape\n",
    "f.reshape(3,1) + d.reshape(1,5)\n",
    "a=np.random.rand(5)\n",
    "a[np.argsort(a)]\n",
    "# np.random.rand(5,1)+np.random.rand(1,5)"
   ]
  },
  {
   "cell_type": "code",
   "execution_count": 95,
   "metadata": {
    "collapsed": false
   },
   "outputs": [
    {
     "ename": "TypeError",
     "evalue": "unsupported operand type(s) for -: 'xrange' and 'xrange'",
     "output_type": "error",
     "traceback": [
      "\u001b[0;31m---------------------------------------------------------------------------\u001b[0m",
      "\u001b[0;31mTypeError\u001b[0m                                 Traceback (most recent call last)",
      "\u001b[0;32m<ipython-input-95-2d5f41c1117c>\u001b[0m in \u001b[0;36m<module>\u001b[0;34m()\u001b[0m\n\u001b[1;32m      1\u001b[0m \u001b[0ma\u001b[0m\u001b[0;34m=\u001b[0m\u001b[0mxrange\u001b[0m\u001b[0;34m(\u001b[0m\u001b[0;36m5\u001b[0m\u001b[0;34m)\u001b[0m\u001b[0;34m\u001b[0m\u001b[0m\n\u001b[1;32m      2\u001b[0m \u001b[0mb\u001b[0m\u001b[0;34m=\u001b[0m\u001b[0mxrange\u001b[0m\u001b[0;34m(\u001b[0m\u001b[0;36m3\u001b[0m\u001b[0;34m)\u001b[0m\u001b[0;34m\u001b[0m\u001b[0m\n\u001b[0;32m----> 3\u001b[0;31m \u001b[0;32mprint\u001b[0m \u001b[0ma\u001b[0m\u001b[0;34m-\u001b[0m\u001b[0mb\u001b[0m\u001b[0;34m\u001b[0m\u001b[0m\n\u001b[0m",
      "\u001b[0;31mTypeError\u001b[0m: unsupported operand type(s) for -: 'xrange' and 'xrange'"
     ]
    }
   ],
   "source": [
    "a=xrange(5)\n",
    "b=xrange(3)\n",
    "print a-b"
   ]
  },
  {
   "cell_type": "code",
   "execution_count": null,
   "metadata": {
    "collapsed": false
   },
   "outputs": [],
   "source": [
    "a=np.random.rand(50)\n",
    "b=np.random.rand(50,500)#np.array_split(xrange(len(a)),5)\n",
    "lb=np.shape[b]\n",
    "num_folds = 5\n",
    "print lb\n",
    "# print a[b[0]]\n",
    "print np.array_split(xrange(lb[0]),num_folds)\n",
    "a={}\n",
    "a[1]=np.ones(5)\n",
    "print a\n",
    "a[1][2]=2\n",
    "print a"
   ]
  },
  {
   "cell_type": "code",
   "execution_count": 130,
   "metadata": {
    "collapsed": false
   },
   "outputs": [
    {
     "name": "stdout",
     "output_type": "stream",
     "text": [
      "[[ 0.92331658]\n",
      " [ 0.92886608]]\n"
     ]
    }
   ],
   "source": [
    "a = np.random.rand(2,3)\n",
    "N = a.shape[0]\n",
    "b= a.reshape(N,-1)\n",
    "\n",
    "print np.max(a, axis=1, keepdims=True)"
   ]
  }
 ],
 "metadata": {
  "kernelspec": {
   "display_name": "Python 2",
   "language": "python",
   "name": "python2"
  },
  "language_info": {
   "codemirror_mode": {
    "name": "ipython",
    "version": 2
   },
   "file_extension": ".py",
   "mimetype": "text/x-python",
   "name": "python",
   "nbconvert_exporter": "python",
   "pygments_lexer": "ipython2",
   "version": "2.7.13"
  }
 },
 "nbformat": 4,
 "nbformat_minor": 2
}
